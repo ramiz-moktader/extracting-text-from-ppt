{
 "cells": [
  {
   "cell_type": "code",
   "execution_count": 2,
   "metadata": {},
   "outputs": [],
   "source": [
    "import os\n",
    "import pptx\n",
    "import openpyxl\n",
    "\n",
    "# Set the directory containing the PPTX files\n",
    "dir_path = r\"ppt files/\"\n",
    "\n",
    "# Loop through each file in the directory\n",
    "for file_name in os.listdir(dir_path):\n",
    "    # Check if the file is a PPTX file\n",
    "    if file_name.endswith(\".pptx\"):\n",
    "        # Load the PowerPoint file\n",
    "        ppt = pptx.Presentation(os.path.join(dir_path, file_name))\n",
    "\n",
    "        # Initialize an empty list to store the extracted text\n",
    "        text_list = []\n",
    "\n",
    "        # Loop through each slide in the PowerPoint file\n",
    "        for slide in ppt.slides:\n",
    "            # Loop through each shape in the slide\n",
    "            for shape in slide.shapes:\n",
    "                # Check if the shape is a text box\n",
    "                if shape.has_text_frame:\n",
    "                    # Add the text to the list\n",
    "                    text_list.append(shape.text_frame.text)\n",
    "\n",
    "        # Create a new workbook\n",
    "        workbook = openpyxl.Workbook()\n",
    "\n",
    "        # Select the active worksheet\n",
    "        worksheet = workbook.active\n",
    "        for i, text in enumerate(text_list):\n",
    "            worksheet.column_dimensions[openpyxl.utils.get_column_letter(i+1)].width = 17\n",
    "        # Loop through each item in the text list and write it to the worksheet\n",
    "        for i, text in enumerate(text_list):\n",
    "            # Write the text to the worksheet\n",
    "            worksheet.cell(row=i+2, column=1, value=text)\n",
    "            cell = worksheet.cell(row=1, column=i+2, value=text)\n",
    "            cell.alignment = openpyxl.styles.Alignment(wrap_text=True, vertical='top')\n",
    "\n",
    "        # Save the workbook to a file with the same name as the PPTX file\n",
    "        file_base_name = os.path.splitext(file_name)[0]\n",
    "        file_path = os.path.join(dir_path, file_base_name + \".xlsx\")\n",
    "        workbook.save(file_path)"
   ]
  }
 ],
 "metadata": {
  "kernelspec": {
   "display_name": "ppt",
   "language": "python",
   "name": "python3"
  },
  "language_info": {
   "codemirror_mode": {
    "name": "ipython",
    "version": 3
   },
   "file_extension": ".py",
   "mimetype": "text/x-python",
   "name": "python",
   "nbconvert_exporter": "python",
   "pygments_lexer": "ipython3",
   "version": "3.6.15"
  },
  "orig_nbformat": 4
 },
 "nbformat": 4,
 "nbformat_minor": 2
}
